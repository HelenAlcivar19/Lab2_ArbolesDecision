{
 "cells": [
  {
   "cell_type": "code",
   "execution_count": 20,
   "id": "d3633bb4",
   "metadata": {},
   "outputs": [
    {
     "name": "stdout",
     "output_type": "stream",
     "text": [
      "Importamos las librerias \n"
     ]
    }
   ],
   "source": [
    "def importlibrerias():\n",
    "    \n",
    "    '''Importamos las librerias '''\n",
    "from sklearn import tree\n",
    "import pydotplus\n",
    "from sklearn.tree import DecisionTreeClassifier\n",
    "%matplotlib notebook\n",
    "import matplotlib.pyplot as plt\n",
    "import matplotlib.image as pltimg\n",
    "import pandas as pd\n",
    "\n",
    "print(importlibrerias.__doc__)"
   ]
  },
  {
   "cell_type": "code",
   "execution_count": 23,
   "id": "fa7fadd2",
   "metadata": {},
   "outputs": [
    {
     "name": "stdout",
     "output_type": "stream",
     "text": [
      "Cargamos el dataset con extension de archivo csv\n"
     ]
    }
   ],
   "source": [
    "def carga():\n",
    "            \n",
    "    '''Cargamos el dataset con extension de archivo csv'''\n",
    "\n",
    "df = pd.read_csv(\"international-migration-march-2022-estimated-migration-by-age-sex.csv\" )\n",
    "df.head(10)\n",
    "\n",
    "print(carga.__doc__)\n"
   ]
  },
  {
   "cell_type": "code",
   "execution_count": 25,
   "id": "e86af357",
   "metadata": {},
   "outputs": [
    {
     "data": {
      "text/html": [
       "<div>\n",
       "<style scoped>\n",
       "    .dataframe tbody tr th:only-of-type {\n",
       "        vertical-align: middle;\n",
       "    }\n",
       "\n",
       "    .dataframe tbody tr th {\n",
       "        vertical-align: top;\n",
       "    }\n",
       "\n",
       "    .dataframe thead th {\n",
       "        text-align: right;\n",
       "    }\n",
       "</style>\n",
       "<table border=\"1\" class=\"dataframe\">\n",
       "  <thead>\n",
       "    <tr style=\"text-align: right;\">\n",
       "      <th></th>\n",
       "      <th>year_month</th>\n",
       "      <th>month_of_release</th>\n",
       "      <th>passenger_type</th>\n",
       "      <th>direction</th>\n",
       "      <th>sex</th>\n",
       "      <th>age</th>\n",
       "      <th>estimate</th>\n",
       "      <th>standard_error</th>\n",
       "      <th>status</th>\n",
       "    </tr>\n",
       "  </thead>\n",
       "  <tbody>\n",
       "    <tr>\n",
       "      <th>0</th>\n",
       "      <td>2020-09</td>\n",
       "      <td>2022-01</td>\n",
       "      <td>Long-term migrant</td>\n",
       "      <td>Arrivals</td>\n",
       "      <td>Female</td>\n",
       "      <td>0-4 years</td>\n",
       "      <td>220</td>\n",
       "      <td>0</td>\n",
       "      <td>Final</td>\n",
       "    </tr>\n",
       "    <tr>\n",
       "      <th>1</th>\n",
       "      <td>2020-10</td>\n",
       "      <td>2022-02</td>\n",
       "      <td>Long-term migrant</td>\n",
       "      <td>Arrivals</td>\n",
       "      <td>Female</td>\n",
       "      <td>0-4 years</td>\n",
       "      <td>213</td>\n",
       "      <td>0</td>\n",
       "      <td>Final</td>\n",
       "    </tr>\n",
       "    <tr>\n",
       "      <th>2</th>\n",
       "      <td>2020-11</td>\n",
       "      <td>2022-03</td>\n",
       "      <td>Long-term migrant</td>\n",
       "      <td>Arrivals</td>\n",
       "      <td>Female</td>\n",
       "      <td>0-4 years</td>\n",
       "      <td>198</td>\n",
       "      <td>0</td>\n",
       "      <td>Final</td>\n",
       "    </tr>\n",
       "    <tr>\n",
       "      <th>3</th>\n",
       "      <td>2020-12</td>\n",
       "      <td>2022-03</td>\n",
       "      <td>Long-term migrant</td>\n",
       "      <td>Arrivals</td>\n",
       "      <td>Female</td>\n",
       "      <td>0-4 years</td>\n",
       "      <td>208</td>\n",
       "      <td>0</td>\n",
       "      <td>Provisional</td>\n",
       "    </tr>\n",
       "    <tr>\n",
       "      <th>4</th>\n",
       "      <td>2021-01</td>\n",
       "      <td>2022-03</td>\n",
       "      <td>Long-term migrant</td>\n",
       "      <td>Arrivals</td>\n",
       "      <td>Female</td>\n",
       "      <td>0-4 years</td>\n",
       "      <td>191</td>\n",
       "      <td>0</td>\n",
       "      <td>Provisional</td>\n",
       "    </tr>\n",
       "    <tr>\n",
       "      <th>...</th>\n",
       "      <td>...</td>\n",
       "      <td>...</td>\n",
       "      <td>...</td>\n",
       "      <td>...</td>\n",
       "      <td>...</td>\n",
       "      <td>...</td>\n",
       "      <td>...</td>\n",
       "      <td>...</td>\n",
       "      <td>...</td>\n",
       "    </tr>\n",
       "    <tr>\n",
       "      <th>45370</th>\n",
       "      <td>2020-05</td>\n",
       "      <td>2021-09</td>\n",
       "      <td>Long-term migrant</td>\n",
       "      <td>Net</td>\n",
       "      <td>Female</td>\n",
       "      <td>TOTAL</td>\n",
       "      <td>189</td>\n",
       "      <td>0</td>\n",
       "      <td>Final</td>\n",
       "    </tr>\n",
       "    <tr>\n",
       "      <th>45371</th>\n",
       "      <td>2020-05</td>\n",
       "      <td>2021-09</td>\n",
       "      <td>Long-term migrant</td>\n",
       "      <td>Net</td>\n",
       "      <td>Male</td>\n",
       "      <td>TOTAL</td>\n",
       "      <td>184</td>\n",
       "      <td>0</td>\n",
       "      <td>Final</td>\n",
       "    </tr>\n",
       "    <tr>\n",
       "      <th>45372</th>\n",
       "      <td>2020-05</td>\n",
       "      <td>2021-09</td>\n",
       "      <td>Long-term migrant</td>\n",
       "      <td>Arrivals</td>\n",
       "      <td>TOTAL</td>\n",
       "      <td>TOTAL</td>\n",
       "      <td>1381</td>\n",
       "      <td>0</td>\n",
       "      <td>Final</td>\n",
       "    </tr>\n",
       "    <tr>\n",
       "      <th>45373</th>\n",
       "      <td>2020-05</td>\n",
       "      <td>2021-09</td>\n",
       "      <td>Long-term migrant</td>\n",
       "      <td>Departures</td>\n",
       "      <td>TOTAL</td>\n",
       "      <td>TOTAL</td>\n",
       "      <td>1008</td>\n",
       "      <td>0</td>\n",
       "      <td>Final</td>\n",
       "    </tr>\n",
       "    <tr>\n",
       "      <th>45374</th>\n",
       "      <td>2020-05</td>\n",
       "      <td>2021-09</td>\n",
       "      <td>Long-term migrant</td>\n",
       "      <td>Net</td>\n",
       "      <td>TOTAL</td>\n",
       "      <td>TOTAL</td>\n",
       "      <td>373</td>\n",
       "      <td>0</td>\n",
       "      <td>Final</td>\n",
       "    </tr>\n",
       "  </tbody>\n",
       "</table>\n",
       "<p>45375 rows × 9 columns</p>\n",
       "</div>"
      ],
      "text/plain": [
       "      year_month month_of_release     passenger_type   direction     sex  \\\n",
       "0        2020-09          2022-01  Long-term migrant    Arrivals  Female   \n",
       "1        2020-10          2022-02  Long-term migrant    Arrivals  Female   \n",
       "2        2020-11          2022-03  Long-term migrant    Arrivals  Female   \n",
       "3        2020-12          2022-03  Long-term migrant    Arrivals  Female   \n",
       "4        2021-01          2022-03  Long-term migrant    Arrivals  Female   \n",
       "...          ...              ...                ...         ...     ...   \n",
       "45370    2020-05          2021-09  Long-term migrant         Net  Female   \n",
       "45371    2020-05          2021-09  Long-term migrant         Net    Male   \n",
       "45372    2020-05          2021-09  Long-term migrant    Arrivals   TOTAL   \n",
       "45373    2020-05          2021-09  Long-term migrant  Departures   TOTAL   \n",
       "45374    2020-05          2021-09  Long-term migrant         Net   TOTAL   \n",
       "\n",
       "             age  estimate  standard_error       status  \n",
       "0      0-4 years       220               0        Final  \n",
       "1      0-4 years       213               0        Final  \n",
       "2      0-4 years       198               0        Final  \n",
       "3      0-4 years       208               0  Provisional  \n",
       "4      0-4 years       191               0  Provisional  \n",
       "...          ...       ...             ...          ...  \n",
       "45370      TOTAL       189               0        Final  \n",
       "45371      TOTAL       184               0        Final  \n",
       "45372      TOTAL      1381               0        Final  \n",
       "45373      TOTAL      1008               0        Final  \n",
       "45374      TOTAL       373               0        Final  \n",
       "\n",
       "[45375 rows x 9 columns]"
      ]
     },
     "execution_count": 25,
     "metadata": {},
     "output_type": "execute_result"
    }
   ],
   "source": [
    "df"
   ]
  },
  {
   "cell_type": "code",
   "execution_count": 26,
   "id": "4f2fedc6",
   "metadata": {},
   "outputs": [
    {
     "name": "stdout",
     "output_type": "stream",
     "text": [
      "      year_month month_of_release  passenger_type  direction  sex        age  \\\n",
      "0        2020-09          2022-01               1          0    0  0-4 years   \n",
      "1        2020-10          2022-02               1          0    0  0-4 years   \n",
      "2        2020-11          2022-03               1          0    0  0-4 years   \n",
      "3        2020-12          2022-03               1          0    0  0-4 years   \n",
      "4        2021-01          2022-03               1          0    0  0-4 years   \n",
      "...          ...              ...             ...        ...  ...        ...   \n",
      "45370    2020-05          2021-09               1          2    0      TOTAL   \n",
      "45371    2020-05          2021-09               1          2    1      TOTAL   \n",
      "45372    2020-05          2021-09               1          0    2      TOTAL   \n",
      "45373    2020-05          2021-09               1          1    2      TOTAL   \n",
      "45374    2020-05          2021-09               1          2    2      TOTAL   \n",
      "\n",
      "       estimate  standard_error  status  \n",
      "0           220               0       0  \n",
      "1           213               0       0  \n",
      "2           198               0       0  \n",
      "3           208               0       1  \n",
      "4           191               0       1  \n",
      "...         ...             ...     ...  \n",
      "45370       189               0       0  \n",
      "45371       184               0       0  \n",
      "45372      1381               0       0  \n",
      "45373      1008               0       0  \n",
      "45374       373               0       0  \n",
      "\n",
      "[45375 rows x 9 columns]\n",
      "Distribuir los valores alfanumericos del dataset escogiddo en numericos por medio  de la tecnica de reemplazo de valores\n"
     ]
    }
   ],
   "source": [
    "def DatosNulos():\n",
    "    \n",
    "    '''Distribuir los valores alfanumericos del dataset escogiddo en numericos por medio  de la tecnica de reemplazo de valores'''\n",
    "d1 = {'Arrivals': 0, 'Departures': 1, 'Net': 2}\n",
    "df['direction'] = df['direction'].map(d1)\n",
    "d2 = {'Female': 0, 'Male': 1, 'TOTAL': 2}\n",
    "df['sex'] = df['sex'].map(d2)\n",
    "d3 = {'Final': 0, 'Provisional': 1}\n",
    "df['status'] = df['status'].map(d3)\n",
    "d4 = {'Long-term migrant': 1}\n",
    "df['passenger_type'] = df['passenger_type'].map(d4)\n",
    "\n",
    "print(df)\n",
    "\n",
    "print(DatosNulos.__doc__)"
   ]
  },
  {
   "cell_type": "code",
   "execution_count": 27,
   "id": "1073ffd2",
   "metadata": {},
   "outputs": [
    {
     "name": "stdout",
     "output_type": "stream",
     "text": [
      "Elegimos las caracteristicas\n"
     ]
    }
   ],
   "source": [
    "def defCaracteristicas():\n",
    "    \n",
    "    '''Elegimos las caracteristicas'''\n",
    "features = ['year_month', 'month_of_release', 'passenger_type', 'direction','sex','estimate','standard_error']\n",
    "X = df[features]\n",
    "print(defCaracteristicas.__doc__)"
   ]
  },
  {
   "cell_type": "code",
   "execution_count": 28,
   "id": "5ad75854",
   "metadata": {},
   "outputs": [
    {
     "name": "stdout",
     "output_type": "stream",
     "text": [
      "Elegimos nuestra objetivo, es decir la columna con los valores que intentamos predecir.\n"
     ]
    }
   ],
   "source": [
    "def defObjetivo():\n",
    "    \n",
    "    '''Elegimos nuestra objetivo, es decir la columna con los valores que intentamos predecir.'''\n",
    "y = df['status']\n",
    "print(defObjetivo.__doc__)"
   ]
  },
  {
   "cell_type": "code",
   "execution_count": 31,
   "id": "ba66a87b",
   "metadata": {},
   "outputs": [
    {
     "ename": "IndentationError",
     "evalue": "unexpected indent (Temp/ipykernel_10552/366627833.py, line 7)",
     "output_type": "error",
     "traceback": [
      "\u001b[1;36m  File \u001b[1;32m\"C:\\Users\\Equipo\\AppData\\Local\\Temp/ipykernel_10552/366627833.py\"\u001b[1;36m, line \u001b[1;32m7\u001b[0m\n\u001b[1;33m    print(mostrar.__doc__)\u001b[0m\n\u001b[1;37m    ^\u001b[0m\n\u001b[1;31mIndentationError\u001b[0m\u001b[1;31m:\u001b[0m unexpected indent\n"
     ]
    }
   ],
   "source": [
    "\n",
    "    \n",
    "    ''' Imprimimos nuestros valores de X y de y '''\n",
    " \n",
    "\n",
    "    \n",
    "  "
   ]
  },
  {
   "cell_type": "code",
   "execution_count": null,
   "id": "97723e4c",
   "metadata": {},
   "outputs": [],
   "source": []
  }
 ],
 "metadata": {
  "kernelspec": {
   "display_name": "Python 3 (ipykernel)",
   "language": "python",
   "name": "python3"
  },
  "language_info": {
   "codemirror_mode": {
    "name": "ipython",
    "version": 3
   },
   "file_extension": ".py",
   "mimetype": "text/x-python",
   "name": "python",
   "nbconvert_exporter": "python",
   "pygments_lexer": "ipython3",
   "version": "3.9.7"
  }
 },
 "nbformat": 4,
 "nbformat_minor": 5
}
